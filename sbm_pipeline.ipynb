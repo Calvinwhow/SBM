{
 "cells": [
  {
   "cell_type": "markdown",
   "metadata": {},
   "source": [
    "# Automated Method\n",
    "- you will need to install docker desktop to run this. Below is the format for unix architecture\n",
    "> sudo apt-get update\n",
    ">\n",
    "> sudo apt-get install docker.io\n",
    ">\n",
    "> docker --version\n",
    "- If successful, you will see the docker readout. "
   ]
  },
  {
   "cell_type": "code",
   "execution_count": 3,
   "metadata": {},
   "outputs": [],
   "source": [
    "bids_dir = r\"C:\\Users\\Calvin\\Dropbox (Partners HealthCare)\\resources\\datasets\\ADNI\\neuroimaging\\raws\\wdrew_reconall\"\n",
    "dockerfile_path = r\"C:\\Users\\Calvin\\Documents\\Software\\Research\\nimlab\\sbm\\dockerfiles\\fsl_freesurfer.Dockerfile\""
   ]
  },
  {
   "cell_type": "markdown",
   "metadata": {},
   "source": [
    "\n",
    "# Example usage:\n",
    "\n",
    "1. Prepare the Docker environment\n",
    "> CalvinSBM.setup_docker_environment(\"calvinwhow/freesurfer:latest\")\n",
    "\n",
    "2. Run the script inside the Docker container\n",
    "> CalvinSBM.run_docker_script(\"calvinwhow/freesurfer:latest\", \"/path/to/local/run_reconall.sh\", \"/path/to/local/bids_data_dir\")\n"
   ]
  },
  {
   "cell_type": "markdown",
   "metadata": {},
   "source": [
    "Pull and Prepare Image\n",
    "- Uses Calvin W Howard's public docker repository"
   ]
  },
  {
   "cell_type": "code",
   "execution_count": 6,
   "metadata": {},
   "outputs": [],
   "source": [
    "from dependencies.calvin_sbm import CalvinSBM\n",
    "CalvinSBM.setup_docker_environment(\"calvinwhow/freesurfer:latest\")"
   ]
  },
  {
   "cell_type": "markdown",
   "metadata": {},
   "source": [
    "Run Script of Choice\n",
    "- You can read available scripts in SBM/scripts\n",
    "- You can create and call your own scripts\n",
    "- Example below. Leave first arg default. Enter your selections in Args 2 & 3. \n",
    ">**CalvinSBM.run_docker_script(\"calvinwhow/freesurfer:latest\", \"SBM/scripts/script_of_choice.sh\", \"/path/to/local/bids/data\")**"
   ]
  },
  {
   "cell_type": "code",
   "execution_count": null,
   "metadata": {},
   "outputs": [],
   "source": [
    "CalvinSBM.run_docker_script(\"calvinwhow/freesurfer:latest\", \"/path/to/local/run_reconall.sh\", \"/path/to/local/bids_data_dir\")"
   ]
  },
  {
   "cell_type": "markdown",
   "metadata": {},
   "source": [
    "Build and Push Updates"
   ]
  },
  {
   "cell_type": "code",
   "execution_count": null,
   "metadata": {},
   "outputs": [],
   "source": [
    "CalvinSBM.docker_build_and_push()"
   ]
  },
  {
   "cell_type": "markdown",
   "metadata": {},
   "source": [
    "# Manual Method\n",
    "- Step 1: cd to directory with dockerfile in it. \n",
    "- Step 2: > docker build -t freesurfer:latest -f Dockerfile.freesurfer .\n",
    "- Step 3: wait for completion\n",
    "- Step 4 (give run permission to script you want to run): chmod +x /path/to/scripts/script.sh\n",
    "- Step 5: make sure your target BIDS directory has data available offline if you are running from cloud storage\n",
    "- Step 6 (Run container, but mount data and scripts directory, then ask the container to execute your script.): \n",
    "\n",
    "Example:\n",
    "- Step 1: convert cortical thickness to FS5 space\n",
    "    - docker run -v \"C:/Users/Calvin/Documents/Software/Research/nimlab/sbm/scripts:/scripts\" -v \"C:/Users/Calvin/Dropbox (Partners HealthCare)/resources/datasets/ADNI/neuroimaging/raws/wdrew_reconall:/data\" sbm:latest /scripts/calvin_cort_thick_to_fs5.sh\n",
    "- Step 2: Convert FS5 surface space to MNI152 volume space. \n",
    "    - docker run -v \"/Users/cu135/Library/CloudStorage/OneDrive-Personal/OneDrive_Documents/Work/Software/Research/nimlab/sbm/scripts:/scripts\" -v \"/Users/cu135/Dropbox (Partners   HealthCare)/studies/atrophy_seeds_2023/shared_analysis/niftis_for_elmira/wmaps/sbm:/data\" sbm:latest /scripts/calvin_fs5_to_mni152.sh"
   ]
  }
 ],
 "metadata": {
  "kernelspec": {
   "display_name": "nimlab",
   "language": "python",
   "name": "python3"
  },
  "language_info": {
   "codemirror_mode": {
    "name": "ipython",
    "version": 3
   },
   "file_extension": ".py",
   "mimetype": "text/x-python",
   "name": "python",
   "nbconvert_exporter": "python",
   "pygments_lexer": "ipython3",
   "version": "3.11.4"
  }
 },
 "nbformat": 4,
 "nbformat_minor": 2
}
