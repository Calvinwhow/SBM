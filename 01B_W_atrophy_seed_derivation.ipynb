{
 "cells": [
  {
   "cell_type": "markdown",
   "metadata": {},
   "source": [
    "Imports"
   ]
  },
  {
   "cell_type": "code",
   "execution_count": null,
   "metadata": {},
   "outputs": [],
   "source": [
    "import warnings\n",
    "warnings.filterwarnings('ignore')"
   ]
  },
  {
   "cell_type": "markdown",
   "metadata": {},
   "source": [
    "# Nifti Import"
   ]
  },
  {
   "cell_type": "markdown",
   "metadata": {},
   "source": [
    "**From Directory**\n",
    "___"
   ]
  },
  {
   "cell_type": "markdown",
   "metadata": {},
   "source": [
    "\n",
    "### 1. Cortical Thickness (CTh)\n",
    "- **path**: Absolute path to the base directory containing CTh files.\n",
    "- **glob_name_pattern**: File pattern to search for CTh files.\n",
    "\n",
    "---\n",
    "\n",
    "**Instructions**: Please fill out the `path` and `glob_name_pattern` fields for each segment in the `segments_dict`. This will ensure that the extraction process can locate and identify the appropriate neuroimaging files for further analysis.\n",
    "---"
   ]
  },
  {
   "cell_type": "markdown",
   "metadata": {},
   "source": [
    "# Import Segmented Patients for Atrophy Detection"
   ]
  },
  {
   "cell_type": "code",
   "execution_count": null,
   "metadata": {},
   "outputs": [],
   "source": [
    "base_directory = r'/Volumes/OneTouch/datasets/adni/neuroimaging/true_ad_randomized/vbm/raws'\n",
    "ct_pattern = '*/mri/*mwp1*resampled*'"
   ]
  },
  {
   "cell_type": "code",
   "execution_count": 1,
   "metadata": {},
   "outputs": [
    {
     "name": "stderr",
     "output_type": "stream",
     "text": [
      "/usr/local/Caskroom/mambaforge/base/envs/nimlab_py310/lib/python3.10/site-packages/scipy/__init__.py:146: UserWarning: A NumPy version >=1.16.5 and <1.23.0 is required for this version of SciPy (detected version 1.25.2\n",
      "  warnings.warn(f\"A NumPy version >={np_minversion} and <{np_maxversion}\"\n"
     ]
    }
   ],
   "source": [
    "from calvin_utils.file_utils.import_matrices import import_matrices_from_folder #<----- CALVIN IMPORT\n",
    "\n",
    "def import_ct_dataframes_from_folders(base_directory, ct_glob_name_pattern):\n",
    "    \"\"\"\n",
    "    Imports dataframes from specified directories and glob name patterns.\n",
    "    \n",
    "    Parameters:\n",
    "    - base_directory (str): The base directory where the data resides.\n",
    "    - grey_matter_glob_name_pattern (str): Glob pattern for grey matter data.\n",
    "    - white_matter_glob_name_pattern (str): Glob pattern for white matter data.\n",
    "    - csf_glob_name_pattern (str): Glob pattern for cerebrospinal fluid data.\n",
    "    \n",
    "    Returns:\n",
    "    - dict: A dictionary containing dataframes for grey matter, white matter, and cerebrospinal fluid.\n",
    "    \"\"\"\n",
    "    \n",
    "\n",
    "    segments_dict = {\n",
    "        'ct': {'path': base_directory, 'glob_name_pattern': ct_glob_name_pattern},\n",
    "    }\n",
    "\n",
    "    dataframes_dict = {}\n",
    "\n",
    "    for k, v in segments_dict.items():\n",
    "        dataframes_dict[k] = import_matrices_from_folder(connectivity_path=v['path'], file_pattern=v['glob_name_pattern'])\n",
    "        print(f'Imported data {k} data with {dataframes_dict[k].shape[0]} voxels and {dataframes_dict[k].shape[1]} patients')\n",
    "        print(f'These are the filenames per subject {dataframes_dict[k].columns}')\n",
    "        print('--------------------------------')\n",
    "\n",
    "    return dataframes_dict\n"
   ]
  },
  {
   "cell_type": "code",
   "execution_count": null,
   "metadata": {},
   "outputs": [],
   "source": [
    "dataframes_dict = import_ct_dataframes_from_folders(base_directory, ct_pattern)"
   ]
  },
  {
   "cell_type": "markdown",
   "metadata": {},
   "source": [
    "**Extract Subject ID From File Names**\n",
    "- Using the example filenames that have been printed above, please define a general string:\n",
    "1) Preceding the subject ID. If nothing preceding subject identifier, enter \"\".\n",
    "- Do NOT include mwp[1/2/3] in this. \n",
    "2) Proceeding the subject ID. If nothing proceeding subject identifier, enter \"\"."
   ]
  },
  {
   "cell_type": "code",
   "execution_count": null,
   "metadata": {},
   "outputs": [],
   "source": [
    "preceding_id = ''\n",
    "proceeding_id = '_resam'"
   ]
  },
  {
   "cell_type": "code",
   "execution_count": null,
   "metadata": {},
   "outputs": [],
   "source": [
    "from calvin_utils.vbm_utils.preprocessing import rename_dataframe_subjects\n",
    "dataframes_dict = rename_dataframe_subjects(dataframes_dict, preceding_id, proceeding_id)"
   ]
  },
  {
   "cell_type": "markdown",
   "metadata": {},
   "source": [
    "# Import Control Segments"
   ]
  },
  {
   "cell_type": "code",
   "execution_count": null,
   "metadata": {},
   "outputs": [],
   "source": [
    "base_directory_control = '/Volumes/Expansion/datasets/adni/neuroimaging/true_control/freesurfer_reconall_sbm'\n",
    "control_cortical_thickness_glob_name_pattern = '*/vol/*_vol_MNI152_s6.nii.gz'"
   ]
  },
  {
   "cell_type": "code",
   "execution_count": null,
   "metadata": {},
   "outputs": [],
   "source": [
    "from calvin_utils.vbm_utils.preprocessing import import_control_dataframes\n",
    "control_dataframes_dict = import_ct_dataframes_from_folders(base_directory_control, control_cortical_thickness_glob_name_pattern)"
   ]
  },
  {
   "cell_type": "markdown",
   "metadata": {},
   "source": [
    "**Extract Subject ID From File Names**\n",
    "- Using the example filenames that have been printed above, please define a general string:\n",
    "1) Preceding the subject ID. If nothing preceding subject identifier, enter \"\".\n",
    "- **Do NOT include mwp[1/2/3] in this.**\n",
    "2) Proceeding the subject ID. If nothing proceeding subject identifier, enter \"\".\n",
    "\n",
    "\n",
    "- The example filenames were all provided above"
   ]
  },
  {
   "cell_type": "code",
   "execution_count": null,
   "metadata": {},
   "outputs": [],
   "source": [
    "preceding_id = 's'\n",
    "proceeding_id = '_re'"
   ]
  },
  {
   "cell_type": "code",
   "execution_count": null,
   "metadata": {},
   "outputs": [],
   "source": [
    "from calvin_utils.vbm_utils.preprocessing import rename_dataframe_subjects\n",
    "control_dataframes_dict = rename_dataframe_subjects(control_dataframes_dict, preceding_id, proceeding_id)"
   ]
  },
  {
   "cell_type": "markdown",
   "metadata": {},
   "source": [
    "# Import Covariates\n",
    "Expects a CSV as below: \n",
    "```\n",
    "+---------+----------------------------+--------------+--------------+--------------+\n",
    "|Covariate| Subject 1                  | Subject 2    | Subject . . .| Subject N    |\n",
    "+---------+----------------------------+--------------+--------------+--------------+\n",
    "| Male    | 0                          | 1            | 1            | 1            |\n",
    "| Female  | 1                          | 0            | 0            | 0            |\n",
    "| Age     | 65                         | 72           | 87           | 90           |\n",
    "+---------+----------------------------+--------------+--------------+--------------+\n",
    "```\n",
    "**1 is True, 0 is False, Age is represented in years.**"
   ]
  },
  {
   "cell_type": "code",
   "execution_count": null,
   "metadata": {},
   "outputs": [],
   "source": [
    "control_covariates_csv_path = '/Users/cu135/Dropbox (Partners HealthCare)/studies/atrophy_seeds_2023/metadata/true_ad_patient_data/patient_covariates.csv'\n",
    "patient_covariates_csv_path = '/Users/cu135/Dropbox (Partners HealthCare)/studies/atrophy_seeds_2023/metadata/paths_and_covariates/control_group_covariates.csv'"
   ]
  },
  {
   "cell_type": "code",
   "execution_count": null,
   "metadata": {},
   "outputs": [],
   "source": [
    "from calvin_utils.vbm_utils.w_scoring import import_covariates\n",
    "patient_covariates_df, control_covariates_df = import_covariates(control_covariates_csv_path=control_covariates_csv_path, patient_covariates_csv_path=patient_covariates_csv_path)\n",
    "control_covariates_df"
   ]
  },
  {
   "cell_type": "code",
   "execution_count": null,
   "metadata": {},
   "outputs": [],
   "source": [
    "patient_covariates_df"
   ]
  },
  {
   "cell_type": "markdown",
   "metadata": {},
   "source": [
    "Improve the Naming of the Covariate Subjects\n",
    "- Pending construction. Should have named it appropraitely when you built your CSV. \n",
    "- Will code PRN. "
   ]
  },
  {
   "cell_type": "markdown",
   "metadata": {},
   "source": [
    "# Generate W-Scored Atrophy Maps for Each Segment"
   ]
  },
  {
   "cell_type": "code",
   "execution_count": null,
   "metadata": {},
   "outputs": [],
   "source": [
    "from calvin_utils.vbm_utils.w_scoring import CalvinWMap\n",
    "wmapper = CalvinWMap(dataframes_dict=dataframes_dict, control_dataframes_dict=control_dataframes_dict, control_covariates_df=control_covariates_df, patient_covariates_df=patient_covariates_df)\n",
    "atrophy_dataframes_dict, significant_atrophy_dataframes_dict = wmapper.run()"
   ]
  },
  {
   "cell_type": "markdown",
   "metadata": {},
   "source": [
    "**Generate Composite Maps**"
   ]
  },
  {
   "cell_type": "code",
   "execution_count": null,
   "metadata": {},
   "outputs": [],
   "source": [
    "from calvin_utils.vbm_utils.processing import generate_composite_maps\n",
    "unthresholded_atrophy_dataframes_dict = generate_composite_maps(atrophy_dataframes_dict, thresholded=False)\n",
    "thresholded_atrophy_dataframes_dict = generate_composite_maps(significant_atrophy_dataframes_dict, thresholded=True)"
   ]
  },
  {
   "cell_type": "markdown",
   "metadata": {},
   "source": [
    "# Save the W-Scored Maps"
   ]
  },
  {
   "cell_type": "markdown",
   "metadata": {},
   "source": [
    "Unthresholded Maps"
   ]
  },
  {
   "cell_type": "code",
   "execution_count": null,
   "metadata": {},
   "outputs": [],
   "source": [
    "base_directory='/Volumes/OneTouch/datasets/adni/neuroimaging/true_ad_randomized/vbm/w_atrophy_seeds'"
   ]
  },
  {
   "cell_type": "code",
   "execution_count": null,
   "metadata": {},
   "outputs": [],
   "source": [
    "from calvin_utils.vbm_utils.processing import save_nifti_to_bids\n",
    "save_nifti_to_bids(unthresholded_atrophy_dataframes_dict, bids_base_dir=base_directory, analysis='tissue_segment_w_scores', dry_run=False);"
   ]
  },
  {
   "cell_type": "markdown",
   "metadata": {},
   "source": [
    "Thresholded Maps - The 'Real' Atrophy\n"
   ]
  },
  {
   "cell_type": "code",
   "execution_count": null,
   "metadata": {},
   "outputs": [],
   "source": [
    "from calvin_utils.vbm_utils.processing import save_nifti_to_bids\n",
    "save_nifti_to_bids(thresholded_atrophy_dataframes_dict, bids_base_dir=base_directory, analysis='thresholded_tissue_segment_w_scores', dry_run=False);"
   ]
  },
  {
   "cell_type": "markdown",
   "metadata": {},
   "source": [
    "All Done. Enjoy your atrophy seeds.\n",
    "\n",
    "--Calvin"
   ]
  }
 ],
 "metadata": {
  "kernelspec": {
   "display_name": "nimlab_py310",
   "language": "python",
   "name": "python3"
  },
  "language_info": {
   "codemirror_mode": {
    "name": "ipython",
    "version": 3
   },
   "file_extension": ".py",
   "mimetype": "text/x-python",
   "name": "python",
   "nbconvert_exporter": "python",
   "pygments_lexer": "ipython3",
   "version": "3.10.8"
  },
  "orig_nbformat": 4
 },
 "nbformat": 4,
 "nbformat_minor": 2
}
